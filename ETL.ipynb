{
 "cells": [
  {
   "attachments": {},
   "cell_type": "markdown",
   "metadata": {},
   "source": [
    "# <h1 align=center> **PROYECTO INDIVIDUAL Nº1** </h1>"
   ]
  },
  {
   "attachments": {},
   "cell_type": "markdown",
   "metadata": {},
   "source": [
    "PI Data Engineering: Jhoeliel Palma Salazar"
   ]
  },
  {
   "cell_type": "code",
   "execution_count": 1,
   "metadata": {},
   "outputs": [],
   "source": [
    "import pandas as pd"
   ]
  },
  {
   "attachments": {},
   "cell_type": "markdown",
   "metadata": {},
   "source": [
    "### **Requerimientos del área de análisis de datos**\n",
    "\n",
    "Definicion de plataformas en una lista que será usada en el bucle de carga"
   ]
  },
  {
   "cell_type": "code",
   "execution_count": 2,
   "metadata": {},
   "outputs": [],
   "source": [
    "plataformas=['amazon_prime_titles-score.csv','disney_plus_titles-score.csv','hulu_titles-score.csv','netflix_titles-score.csv']\n",
    "df_completo=pd.DataFrame()"
   ]
  },
  {
   "attachments": {},
   "cell_type": "markdown",
   "metadata": {},
   "source": [
    "**Proceso de transformaciones:**\n",
    "Se hará una iteracion por cada plataforma de la lista. El nombre de la plataforma de la lista coincide con el nombre del archivo del dataset correspondiente, con la finalidad de simplificar el proceso"
   ]
  },
  {
   "cell_type": "code",
   "execution_count": 3,
   "metadata": {},
   "outputs": [],
   "source": [
    "# ETL\n",
    "for nombre in plataformas:\n",
    "    df = pd.read_csv(\"Datasets/\"+nombre, sep=\",\", encoding=\"UTF-8\")\n",
    "    # Campo id con la primera letra de la plataforma + show_id\n",
    "    df[\"id\"] = nombre[0] + df[\"show_id\"] \n",
    "    # Moviendo columna a la posicion 0\n",
    "    df_pop = df.pop('id') \n",
    "    df.insert(0,'id', df_pop)\n",
    "    # Reeplazando valores nulos en 'rating' por G\n",
    "    df.loc[df['rating'].isnull(), 'rating'] = \"G\"\n",
    "    # Convirtiendo a tipo fecha\n",
    "    df['date_added'] = pd.to_datetime(df['date_added'])\n",
    "    # Cambiando formato de fecha a AAAA-mm-dd\n",
    "    df['date_added'] = pd.to_datetime(df['date_added'], format=\"%YYYY-%mm-%dd\")\n",
    "    # Convirtiendo a minusculas todos los campos de texto\n",
    "    df = df.apply(lambda x: x.astype(str).str.lower() if x.dtype == \"object\" else x)\n",
    "    # Convirtiendo campo duration en dos campos: duration_int y duration_type\n",
    "    df[['duration_int','duration_type']] = df['duration'].str.extract(r'(\\d+)\\s*(\\w+)', expand=True).fillna(0)\n",
    "    df['duration_int'] = df['duration_int'].astype(int)\n",
    "    df['duration_type'].replace('seasons','season',inplace=True)\n",
    "    # Moviendo columnas \n",
    "    df_pop = df.pop('duration_int') \n",
    "    df.insert(11,'duration_int', df_pop)\n",
    "    df_pop = df.pop('duration_type') \n",
    "    df.insert(12,'duration_type', df_pop)\n",
    "    # Eliminando 'duration'\n",
    "    df = df.drop(columns=['duration'])\n",
    "    #df['score'] = df['score'].astype(int)\n",
    "    df_completo = pd.concat([df_completo, df], ignore_index=True)\n",
    "    df_completo = df_completo.infer_objects()"
   ]
  },
  {
   "cell_type": "code",
   "execution_count": 11,
   "metadata": {},
   "outputs": [
    {
     "data": {
      "text/html": [
       "<div>\n",
       "<style scoped>\n",
       "    .dataframe tbody tr th:only-of-type {\n",
       "        vertical-align: middle;\n",
       "    }\n",
       "\n",
       "    .dataframe tbody tr th {\n",
       "        vertical-align: top;\n",
       "    }\n",
       "\n",
       "    .dataframe thead th {\n",
       "        text-align: right;\n",
       "    }\n",
       "</style>\n",
       "<table border=\"1\" class=\"dataframe\">\n",
       "  <thead>\n",
       "    <tr style=\"text-align: right;\">\n",
       "      <th></th>\n",
       "      <th>id</th>\n",
       "      <th>show_id</th>\n",
       "      <th>type</th>\n",
       "      <th>title</th>\n",
       "      <th>director</th>\n",
       "      <th>cast</th>\n",
       "      <th>country</th>\n",
       "      <th>date_added</th>\n",
       "      <th>release_year</th>\n",
       "      <th>rating</th>\n",
       "      <th>duration_int</th>\n",
       "      <th>duration_type</th>\n",
       "      <th>listed_in</th>\n",
       "      <th>description</th>\n",
       "      <th>score</th>\n",
       "    </tr>\n",
       "  </thead>\n",
       "  <tbody>\n",
       "    <tr>\n",
       "      <th>0</th>\n",
       "      <td>as1</td>\n",
       "      <td>s1</td>\n",
       "      <td>movie</td>\n",
       "      <td>the grand seduction</td>\n",
       "      <td>don mckellar</td>\n",
       "      <td>brendan gleeson, taylor kitsch, gordon pinsent</td>\n",
       "      <td>canada</td>\n",
       "      <td>2021-03-30</td>\n",
       "      <td>2014</td>\n",
       "      <td>g</td>\n",
       "      <td>113</td>\n",
       "      <td>min</td>\n",
       "      <td>comedy, drama</td>\n",
       "      <td>a small fishing village must procure a local d...</td>\n",
       "      <td>99</td>\n",
       "    </tr>\n",
       "    <tr>\n",
       "      <th>1</th>\n",
       "      <td>as2</td>\n",
       "      <td>s2</td>\n",
       "      <td>movie</td>\n",
       "      <td>take care good night</td>\n",
       "      <td>girish joshi</td>\n",
       "      <td>mahesh manjrekar, abhay mahajan, sachin khedekar</td>\n",
       "      <td>india</td>\n",
       "      <td>2021-03-30</td>\n",
       "      <td>2018</td>\n",
       "      <td>13+</td>\n",
       "      <td>110</td>\n",
       "      <td>min</td>\n",
       "      <td>drama, international</td>\n",
       "      <td>a metro family decides to fight a cyber crimin...</td>\n",
       "      <td>37</td>\n",
       "    </tr>\n",
       "    <tr>\n",
       "      <th>2</th>\n",
       "      <td>as3</td>\n",
       "      <td>s3</td>\n",
       "      <td>movie</td>\n",
       "      <td>secrets of deception</td>\n",
       "      <td>josh webber</td>\n",
       "      <td>tom sizemore, lorenzo lamas, robert lasardo, r...</td>\n",
       "      <td>united states</td>\n",
       "      <td>2021-03-30</td>\n",
       "      <td>2017</td>\n",
       "      <td>g</td>\n",
       "      <td>74</td>\n",
       "      <td>min</td>\n",
       "      <td>action, drama, suspense</td>\n",
       "      <td>after a man discovers his wife is cheating on ...</td>\n",
       "      <td>20</td>\n",
       "    </tr>\n",
       "    <tr>\n",
       "      <th>3</th>\n",
       "      <td>as4</td>\n",
       "      <td>s4</td>\n",
       "      <td>movie</td>\n",
       "      <td>pink: staying true</td>\n",
       "      <td>sonia anderson</td>\n",
       "      <td>interviews with: pink, adele, beyoncé, britney...</td>\n",
       "      <td>united states</td>\n",
       "      <td>2021-03-30</td>\n",
       "      <td>2014</td>\n",
       "      <td>g</td>\n",
       "      <td>69</td>\n",
       "      <td>min</td>\n",
       "      <td>documentary</td>\n",
       "      <td>pink breaks the mold once again, bringing her ...</td>\n",
       "      <td>27</td>\n",
       "    </tr>\n",
       "    <tr>\n",
       "      <th>4</th>\n",
       "      <td>as5</td>\n",
       "      <td>s5</td>\n",
       "      <td>movie</td>\n",
       "      <td>monster maker</td>\n",
       "      <td>giles foster</td>\n",
       "      <td>harry dean stanton, kieran o'brien, george cos...</td>\n",
       "      <td>united kingdom</td>\n",
       "      <td>2021-03-30</td>\n",
       "      <td>1989</td>\n",
       "      <td>g</td>\n",
       "      <td>45</td>\n",
       "      <td>min</td>\n",
       "      <td>drama, fantasy</td>\n",
       "      <td>teenage matt banting wants to work with a famo...</td>\n",
       "      <td>75</td>\n",
       "    </tr>\n",
       "  </tbody>\n",
       "</table>\n",
       "</div>"
      ],
      "text/plain": [
       "    id show_id   type                 title        director  \\\n",
       "0  as1      s1  movie   the grand seduction    don mckellar   \n",
       "1  as2      s2  movie  take care good night    girish joshi   \n",
       "2  as3      s3  movie  secrets of deception     josh webber   \n",
       "3  as4      s4  movie    pink: staying true  sonia anderson   \n",
       "4  as5      s5  movie         monster maker    giles foster   \n",
       "\n",
       "                                                cast         country  \\\n",
       "0     brendan gleeson, taylor kitsch, gordon pinsent          canada   \n",
       "1   mahesh manjrekar, abhay mahajan, sachin khedekar           india   \n",
       "2  tom sizemore, lorenzo lamas, robert lasardo, r...   united states   \n",
       "3  interviews with: pink, adele, beyoncé, britney...   united states   \n",
       "4  harry dean stanton, kieran o'brien, george cos...  united kingdom   \n",
       "\n",
       "  date_added  release_year rating  duration_int duration_type  \\\n",
       "0 2021-03-30          2014      g           113           min   \n",
       "1 2021-03-30          2018    13+           110           min   \n",
       "2 2021-03-30          2017      g            74           min   \n",
       "3 2021-03-30          2014      g            69           min   \n",
       "4 2021-03-30          1989      g            45           min   \n",
       "\n",
       "                 listed_in                                        description  \\\n",
       "0            comedy, drama  a small fishing village must procure a local d...   \n",
       "1     drama, international  a metro family decides to fight a cyber crimin...   \n",
       "2  action, drama, suspense  after a man discovers his wife is cheating on ...   \n",
       "3              documentary  pink breaks the mold once again, bringing her ...   \n",
       "4           drama, fantasy  teenage matt banting wants to work with a famo...   \n",
       "\n",
       "   score  \n",
       "0     99  \n",
       "1     37  \n",
       "2     20  \n",
       "3     27  \n",
       "4     75  "
      ]
     },
     "execution_count": 11,
     "metadata": {},
     "output_type": "execute_result"
    }
   ],
   "source": [
    "df_completo.head()"
   ]
  },
  {
   "attachments": {},
   "cell_type": "markdown",
   "metadata": {},
   "source": [
    "Una vez finalizado el ETL se procedera a escribir el artchivo .csv desde el dataframe que contiene el dataset completo y unificado"
   ]
  },
  {
   "cell_type": "code",
   "execution_count": 4,
   "metadata": {},
   "outputs": [],
   "source": [
    "df_completo.to_csv(\"Datasets/completo_.csv\", sep=\",\", encoding=\"UTF-8\")"
   ]
  },
  {
   "attachments": {},
   "cell_type": "markdown",
   "metadata": {},
   "source": [
    "En esta parte probaremos las APIs de las consultas requeridas antes de ser subidas"
   ]
  },
  {
   "attachments": {},
   "cell_type": "markdown",
   "metadata": {},
   "source": [
    "1. Cantidad de veces que aparece una keyword en el título de peliculas/series, por plataforma"
   ]
  },
  {
   "cell_type": "code",
   "execution_count": 5,
   "metadata": {},
   "outputs": [
    {
     "name": "stdout",
     "output_type": "stream",
     "text": [
      "('netflix', 196)\n"
     ]
    }
   ],
   "source": [
    "# API 1\n",
    "\n",
    "def get_word_count(plataforma:str,keyword:str): # 2 parametros de entrada: 2 strings\n",
    "    df_completo = pd.read_csv('Datasets/completo.csv')\n",
    "    df_filtrado = df_completo[df_completo['id'].str.contains(plataforma[0])]\n",
    "    count = int(df_filtrado['title'].str.contains(keyword).sum())\n",
    "    return plataforma,count # 2 valores de salida 1 string y 1 entero\n",
    "\n",
    "print(get_word_count('netflix','love'))"
   ]
  },
  {
   "attachments": {},
   "cell_type": "markdown",
   "metadata": {},
   "source": [
    "2. Cantidad de películas por plataforma con un puntaje mayor a XX en determinado año"
   ]
  },
  {
   "cell_type": "code",
   "execution_count": 6,
   "metadata": {},
   "outputs": [
    {
     "name": "stdout",
     "output_type": "stream",
     "text": [
      "('netflix', 20)\n"
     ]
    }
   ],
   "source": [
    "# API 2\n",
    "\n",
    "def get_score_count(plataforma:str,score:int,year:int): # 3 parametros de entrada: 1 string y 2 enteros\n",
    "    df_completo = pd.read_csv('Datasets/completo.csv')\n",
    "    df_filtrado = df_completo[df_completo['id'].str.contains(plataforma[0])]\n",
    "    df_filtrado = df_filtrado[df_filtrado['release_year'] == year]\n",
    "    df_filtrado = df_filtrado[df_filtrado['type'] == 'movie']\n",
    "    count=int(df_filtrado[df_filtrado['score'] > score].shape[0])\n",
    "    return plataforma,count # 2 valores de salida 1 string y 1 entero\n",
    "\n",
    "print(get_score_count('netflix',85,2010))"
   ]
  },
  {
   "attachments": {},
   "cell_type": "markdown",
   "metadata": {},
   "source": [
    "3. La segunda película con mayor score para una plataforma determinada, según el orden alfabético de los títulos."
   ]
  },
  {
   "cell_type": "code",
   "execution_count": 7,
   "metadata": {},
   "outputs": [
    {
     "name": "stdout",
     "output_type": "stream",
     "text": [
      "('abilene town', 100)\n"
     ]
    }
   ],
   "source": [
    "# API 3\n",
    "\n",
    "def get_second_score(plataforma:str): # 1 parametro de entrada: 1 string\n",
    "    df_completo = pd.read_csv('Datasets/completo.csv')\n",
    "    df_filtrado=df_completo[df_completo['id'].str.contains(plataforma[0])]\n",
    "    df_filtrado = df_filtrado[df_filtrado['type'] == 'movie']\n",
    "    df_filtrado = df_filtrado.sort_values(by=['score','title'], ascending=[False, True])\n",
    "    df_filtrado= df_filtrado.reset_index(drop=True)\n",
    "    title=df_filtrado['title'][1]\n",
    "    score=int(df_filtrado['score'][1])\n",
    "    return title,score # 2 valores de salida 1 string y 1 entero\n",
    "\n",
    "print(get_second_score('amazon'))"
   ]
  },
  {
   "attachments": {},
   "cell_type": "markdown",
   "metadata": {},
   "source": [
    "4. Película que más duró según año, plataforma y tipo de duración"
   ]
  },
  {
   "cell_type": "code",
   "execution_count": 8,
   "metadata": {},
   "outputs": [
    {
     "name": "stdout",
     "output_type": "stream",
     "text": [
      "('sairat', 173, 'min')\n"
     ]
    }
   ],
   "source": [
    "# API 4\n",
    "\n",
    "def get_longest(plataforma:str,duracion:str,year:int): # 3 parametros de entrada: 2 strings y 1 entero\n",
    "    #df_completo = pd.read_csv('https://raw.githubusercontent.com/Jhoeliel/PI-DataEngineering/main/completo.csv')\n",
    "    df_completo = pd.read_csv('Datasets/completo.csv')\n",
    "    df_filtrado=df_completo[df_completo['id'].str.contains(plataforma[0])]\n",
    "    df_filtrado = df_filtrado[df_filtrado['release_year'] == year]\n",
    "    df_filtrado = df_filtrado[df_filtrado['duration_type'].str.contains(duracion)]\n",
    "    df_filtrado = df_filtrado.sort_values(by=['duration_int'], ascending=[False])\n",
    "    df_filtrado= df_filtrado.reset_index(drop=True)\n",
    "    title=df_filtrado['title'][0]\n",
    "    duracion_int=int(df_filtrado['duration_int'][0])\n",
    "    duracion_type=df_filtrado['duration_type'][0]\n",
    "    return title,duracion_int,duracion_type # 3 valores de salida 1 string, 1 entero y 1 string\n",
    "\n",
    "print(get_longest('netflix','min',2016))"
   ]
  },
  {
   "attachments": {},
   "cell_type": "markdown",
   "metadata": {},
   "source": [
    "5. Cantidad de series y películas por rating"
   ]
  },
  {
   "cell_type": "code",
   "execution_count": 10,
   "metadata": {},
   "outputs": [
    {
     "name": "stdout",
     "output_type": "stream",
     "text": [
      "('18+', 1243)\n"
     ]
    }
   ],
   "source": [
    "# API 5\n",
    "\n",
    "def get_rating_count(rating:str): # 1 parametro de entrada: 1 string\n",
    "    #df_completo = pd.read_csv('https://raw.githubusercontent.com/Jhoeliel/PI-DataEngineering/main/completo.csv')\n",
    "    df_completo = pd.read_csv('Datasets/completo.csv')\n",
    "    df_filtrado = df_completo[df_completo['rating']==rating]\n",
    "    cantidad=int(df_filtrado.shape[0])\n",
    "    return rating,cantidad # 2 valores de salida 1 string y 1 entero\n",
    "\n",
    "print(get_rating_count(\"18+\"))"
   ]
  }
 ],
 "metadata": {
  "kernelspec": {
   "display_name": "Python 3",
   "language": "python",
   "name": "python3"
  },
  "language_info": {
   "codemirror_mode": {
    "name": "ipython",
    "version": 3
   },
   "file_extension": ".py",
   "mimetype": "text/x-python",
   "name": "python",
   "nbconvert_exporter": "python",
   "pygments_lexer": "ipython3",
   "version": "3.10.5"
  },
  "orig_nbformat": 4,
  "vscode": {
   "interpreter": {
    "hash": "110fe3fb9777db4ce1f884af3cc527a40b2c98427ad17781c021ef692bd3d28d"
   }
  }
 },
 "nbformat": 4,
 "nbformat_minor": 2
}
